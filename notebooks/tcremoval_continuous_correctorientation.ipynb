{
 "cells": [
  {
   "cell_type": "markdown",
   "metadata": {},
   "source": [
    "# Tilt and Compliance Removal for OBS Data: Continuous with Correction for Orientations\n",
    "### Xiaotao Yang @ Harvard University\n",
    "This notebook contains examples of compliance corrections using data downloaded from IRIS. The functions for tilt and compliance corrections are in module seispy.obsmaster.\n",
    "### References:\n",
    "Bell, S. W., D. W. Forsyth, & Y. Ruan (2015), Removing Noise from the Vertical Component Records of Ocean-Bottom Seismometers: Results from Year One of the Cascadia Initiative, Bull. Seismol. Soc. Am., 105(1), 300-313, doi:10.1785/0120140054.\n",
    "\n",
    "Tian, Y., & M. H. Ritzwoller (2017), Improving ambient noise cross-correlations in the noisy ocean bottom environment of the Juan de Fuca plate, Geophys. J. Int., 210(3), 1787-1805, doi:10.1093/gji/ggx281.\n",
    "\n",
    "Helen A Janiszewski, James B Gaherty, Geoffrey A Abers, Haiying Gao, Zachary C Eilon, Amphibious surface-wave phase-velocity measurements of the Cascadia subduction zone, Geophysical Journal International, Volume 217, Issue 3, June 2019, Pages 1929–1948, https://doi.org/10.1093/gji/ggz051"
   ]
  },
  {
   "cell_type": "markdown",
   "metadata": {},
   "source": [
    "## Step 0. Load needed packages.\n",
    "Some functions are imported from the utils.py and the obsmaster.py."
   ]
  },
  {
   "cell_type": "code",
   "execution_count": null,
   "metadata": {},
   "outputs": [],
   "source": [
    "#import needed packages.\n",
    "from seispy import utils\n",
    "from seispy import obsmaster as obs\n",
    "import sys\n",
    "import time\n",
    "import scipy\n",
    "import obspy\n",
    "import pyasdf\n",
    "import datetime\n",
    "import os, glob\n",
    "import numpy as np\n",
    "import pandas as pd\n",
    "import matplotlib.pyplot  as plt\n",
    "from obspy import UTCDateTime\n",
    "from obspy.core import Stream,Trace\n",
    "from IPython.display import clear_output\n",
    "from obspy.clients.fdsn import Client"
   ]
  },
  {
   "cell_type": "markdown",
   "metadata": {},
   "source": [
    "## Step 1. Set global parameters for downloading\n",
    "Set downloading and saving parameters. We download the same data as Figure 5 in Janiszewski et al. (2019).The following figure is from their paper for reference.\n",
    "Earthquake information:\n",
    "M 7.1 - Vanuatu\n",
    "2012-02-02 13:34:40 (UTC)17.827°S 167.133°E 23.0 km depth\n",
    "\n",
    "![title](embededfigs/JaniszewskiGJI2019Fig5.png)"
   ]
  },
  {
   "cell_type": "code",
   "execution_count": null,
   "metadata": {},
   "outputs": [],
   "source": [
    "# get data from IRIS web service\n",
    "\n",
    "net=\"7D\"\n",
    "stalist=[\"FN07A\",\"G30A\"]#[\"G03A\",\"J35A\",\"J44A\",\"J65A\"]\n",
    "starttime = obspy.UTCDateTime(\"2012_02_02_0_0_0\")       \n",
    "endtime   = obspy.UTCDateTime(\"2012_02_02_14_0_0\")\n",
    "stlamin,stlamax,stlomin,stlomax= 37.0,52.0,-133.0,-116.0\n",
    "\n",
    "\"\"\"\n",
    "parameters for processing\n",
    "\"\"\"\n",
    "rmresp=True #remove instrument response\n",
    "# parameters for butterworth filter\n",
    "samp_freq=10\n",
    "pfreqmin=0.002\n",
    "pfreqmax=samp_freq/2\n",
    "\n",
    "# prefilter information used when removing instrument responses\n",
    "f1 = 0.95*pfreqmin;f2=pfreqmin\n",
    "if 1.05*pfreqmax > 0.48*samp_freq:\n",
    "    f3 = 0.45*samp_freq\n",
    "    f4 = 0.48*samp_freq\n",
    "else:\n",
    "    f3 = pfreqmax\n",
    "    f4= 1.05*pfreqmax\n",
    "pre_filt  = [f1,f2,f3,f4]\n",
    "\n",
    "\"\"\"\n",
    "parameters for TC removal\n",
    "\"\"\"\n",
    "window=3600\n",
    "overlap=0.2\n",
    "taper=0.08\n",
    "qc_freq=[0.004, 1]\n",
    "plot_correction=True\n",
    "normalizecorrectionplot=True\n",
    "tc_subset=['ZP-H']\n",
    "\n",
    "\"\"\"\n",
    "parameters for orientation correlaiton for horizontal components\n",
    "\"\"\"\n",
    "#read in station list.\n",
    "obs_orient_file='OBS_orientation_Cascadia.csv'\n",
    "orient_data=obs.get_orientations(obs_orient_file)"
   ]
  },
  {
   "cell_type": "markdown",
   "metadata": {},
   "source": [
    "## Step 2. Download data and do correction through a wrapper"
   ]
  },
  {
   "cell_type": "code",
   "execution_count": null,
   "metadata": {
    "scrolled": false
   },
   "outputs": [],
   "source": [
    "\"\"\"\n",
    "Loop through stations\n",
    "\"\"\"\n",
    "savetofile=True\n",
    "if savetofile:\n",
    "    client=Client('IRIS')\n",
    "    !rm *.h5\n",
    "    \n",
    "correctdictall=dict()\n",
    "normalizecorrectionplot=True\n",
    "for ista in stalist:\n",
    "    t0=time.time()\n",
    "    \"\"\"\n",
    "    a. Downloading data that will be used to compute the transfer functions.\n",
    "    \"\"\"\n",
    "    tr1,tr2,trZ,trP,sta_inv = obs.getobsdata(net,ista,starttime,endtime,samp_freq=samp_freq,\n",
    "                                  plot=False,rmresp=rmresp,pre_filt=pre_filt,getstainv=True)\n",
    "    ta=time.time() - t0\n",
    "    \"\"\"\n",
    "    b. Call the wrapper to remove the tilt and compliance noise.\n",
    "    \"\"\"\n",
    "    spectra,transfunc,correct=obs.TCremoval_wrapper(\n",
    "            tr1,tr2,trZ,trP,window=window,overlap=overlap,merge_taper=taper,\n",
    "            qc_freq=qc_freq,qc_spectra=True,fig_spectra=False,\n",
    "            save_spectrafig=False,fig_transfunc=False,correctlist=tc_subset)\n",
    "    trZtc,tgtemp=obs.correctdict2stream(trZ,correct,tc_subset)\n",
    "\n",
    "    if plot_correction:\n",
    "        obs.plotcorrection(trZ,correct,normalize=normalizecorrectionplot,freq=[0.005,0.1],\n",
    "                       size=(12,13),save=True,form='png',xlimit=[49000,55000])\n",
    "        \n",
    "    tb=time.time() - t0 - ta\n",
    "    \n",
    "    print('all cpu times:')\n",
    "    print(ta,tb)\n",
    "    \n",
    "    \"\"\"\n",
    "    c. Correction horizontal orientations\n",
    "    \"\"\"\n",
    "    trE,trN = obs.correct_orientations(tr1,tr2,orient_data)\n",
    "    utils.plot_trace([tr1,tr2],size=(12,6),title=['tr1','tr2'],freq=[0.005,0.1],\n",
    "                   subplotpar=(1,2))\n",
    "    utils.plot_trace([trE,trN],size=(12,6),title=['trE','trN'],freq=[0.005,0.1],\n",
    "                   subplotpar=(1,2))\n",
    "\n",
    "    \"\"\"\n",
    "    d. Save to ASDF file.\n",
    "    \"\"\"\n",
    "    if savetofile:\n",
    "        year = trZ.stats.starttime.year\n",
    "        julday = trZ.stats.starttime.julday\n",
    "        hour = trZ.stats.starttime.hour\n",
    "        mnt = trZ.stats.starttime.minute\n",
    "        sec = trZ.stats.starttime.second\n",
    "        tstamp = str(year) + '.' + str(julday)+'T'+str(hour)+'-'+str(mnt)+'-'+str(sec)\n",
    "        fnamebase = trZ.stats.network+'.'+trZ.stats.station+'_'+tstamp+'_LEN'+\\\n",
    "                    str(trZ.stats.endtime-trZ.stats.starttime)+'s'\n",
    "\n",
    "        fname=fnamebase+'_corrected.h5'\n",
    "        tags=[]\n",
    "        for tr in [trE,trN,trZtc[0],trP]:\n",
    "            if len(tr.stats.location) == 0:\n",
    "                tlocation='00'\n",
    "            else:\n",
    "                tlocation=tr.stats.location\n",
    "\n",
    "            tags.append(tr.stats.channel.lower()+'_'+tlocation.lower())\n",
    "\n",
    "        print('  saving all component after TC removal to: '+fname)\n",
    "        utils.save2asdf(fname,Stream(traces=[trE,trN,trZtc[0],trP]),tags,sta_inv=sta_inv)"
   ]
  },
  {
   "cell_type": "code",
   "execution_count": null,
   "metadata": {},
   "outputs": [],
   "source": []
  }
 ],
 "metadata": {
  "@webio": {
   "lastCommId": null,
   "lastKernelId": null
  },
  "kernelspec": {
   "display_name": "Python 3",
   "language": "python",
   "name": "python3"
  },
  "language_info": {
   "codemirror_mode": {
    "name": "ipython",
    "version": 3
   },
   "file_extension": ".py",
   "mimetype": "text/x-python",
   "name": "python",
   "nbconvert_exporter": "python",
   "pygments_lexer": "ipython3",
   "version": "3.7.6"
  }
 },
 "nbformat": 4,
 "nbformat_minor": 4
}
